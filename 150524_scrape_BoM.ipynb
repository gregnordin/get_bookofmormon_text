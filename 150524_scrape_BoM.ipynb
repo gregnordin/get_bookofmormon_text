{
 "cells": [
  {
   "cell_type": "markdown",
   "metadata": {},
   "source": [
    "#Table of Contents\n",
    "* [Plan](#Plan)\n",
    "* [Variable & Function Definitions](#Variable-&-Function-Definitions)\n",
    "* [Test reading in just 1 Ne 1](#Test-reading-in-just-1-Ne-1)\n",
    "* [Test reading in all of 1 Ne & constructing dictionary](#Test-reading-in-all-of-1-Ne-&-constructing-dictionary)\n",
    "* [Test pickling dictionary](#Test-pickling-dictionary)\n",
    "* [Read 1 Ne and 2 Ne & save](#Read-1-Ne-and-2-Ne-&-save)\n",
    "* [Now let's get the whole Book of Mormon and save it!](#Now-let's-get-the-whole-Book-of-Mormon-and-save-it!)\n"
   ]
  },
  {
   "cell_type": "code",
   "execution_count": 1,
   "metadata": {
    "collapsed": false
   },
   "outputs": [
    {
     "data": {
      "application/javascript": [
       "IPython.load_extensions('calico-document-tools');"
      ],
      "text/plain": [
       "<IPython.core.display.Javascript object>"
      ]
     },
     "metadata": {},
     "output_type": "display_data"
    }
   ],
   "source": [
    "%%javascript\n",
    "IPython.load_extensions('calico-document-tools');"
   ]
  },
  {
   "cell_type": "code",
   "execution_count": 42,
   "metadata": {
    "collapsed": true
   },
   "outputs": [],
   "source": [
    "from bs4 import BeautifulSoup\n",
    "import urllib2\n",
    "from collections import namedtuple\n",
    "import pickle\n",
    "from __future__ import division\n",
    "from __future__ import print_function"
   ]
  },
  {
   "cell_type": "markdown",
   "metadata": {},
   "source": [
    "# Plan"
   ]
  },
  {
   "cell_type": "markdown",
   "metadata": {},
   "source": [
    "Purpose: Extract text of all verses in the current online Book of Mormon from lds.org\n",
    "\n",
    "Inputs:\n",
    "- List containing tuples to specify book names & # of chapters like this: [ ('1-ne', 22), ('2-ne', 33), etc.]\n",
    "  - Short chapters such as Enos, Jarom, etc. are specified to have one chapter\n",
    "- Base url for Book of Mormon: https://www.lds.org/scriptures/bofm/\n",
    "  - Chapter urls are constructed like this: https://www.lds.org/scriptures/bofm/1-ne/1?lang=eng\n",
    "\n",
    "Ouput: dict\n",
    "\n",
    "    { '1-ne':[ [list for chapter 1, each element being the text for the corresponding verse], \n",
    "               [same for chapter 2], etc.\n",
    "             ], \n",
    "      '2-ne':[ same type of list of chapter lists], \n",
    "      ...\n",
    "    }\n",
    "    \n",
    "  Example access of Moroni 10:5 (we're indexing from zero so we access chp_num-1 and verse_num-1):\n",
    "  \n",
    "    bom_text['moro'][9][4]\n",
    "    \n",
    "**Questions**\n",
    "\n",
    "1. How save final dictionary? Need to put into a date labeled file so I can build up a history of the text over time.\n",
    "  1. http://stackoverflow.com/questions/19201290/python-how-to-read-save-dict-to-file\n",
    "  2. https://wiki.python.org/moin/UsingPickle"
   ]
  },
  {
   "cell_type": "markdown",
   "metadata": {},
   "source": [
    "# Variable & Function Definitions"
   ]
  },
  {
   "cell_type": "code",
   "execution_count": 20,
   "metadata": {
    "collapsed": true
   },
   "outputs": [],
   "source": [
    "urlbase = 'https://www.lds.org/scriptures/bofm/'\n",
    "urlpostfix = '?lang=eng'\n",
    "def make_url( book, chapter, urlbase='https://www.lds.org/scriptures/bofm/', urlpostfix='?lang=eng'):\n",
    "    return urlbase + book + '/' + str(chapter) + urlpostfix"
   ]
  },
  {
   "cell_type": "code",
   "execution_count": 21,
   "metadata": {
    "collapsed": false
   },
   "outputs": [
    {
     "data": {
      "text/plain": [
       "'https://www.lds.org/scriptures/bofm/1-ne/1?lang=eng'"
      ]
     },
     "execution_count": 21,
     "metadata": {},
     "output_type": "execute_result"
    }
   ],
   "source": [
    "make_url('1-ne',1)"
   ]
  },
  {
   "cell_type": "code",
   "execution_count": 72,
   "metadata": {
    "collapsed": false
   },
   "outputs": [
    {
     "name": "stdout",
     "output_type": "stream",
     "text": [
      "15 Book(book='1-ne', num_chps=22) enos 1 1\n"
     ]
    }
   ],
   "source": [
    "Book = namedtuple('Book', 'book num_chps')\n",
    "bookofmormon = [Book('1-ne', 22),\n",
    "                Book('2-ne', 33),\n",
    "                Book('jacob', 7),\n",
    "                Book('enos', 1),\n",
    "                Book('jarom', 1),\n",
    "                Book('omni', 1),\n",
    "                Book('w-of-m', 1),\n",
    "                Book('mosiah', 29),\n",
    "                Book('alma', 63),\n",
    "                Book('hel', 16),\n",
    "                Book('3-ne', 30),\n",
    "                Book('4-ne', 1),\n",
    "                Book('morm', 9),\n",
    "                Book('ether', 15),\n",
    "                Book('moro', 10)]\n",
    "\n",
    "print(len(bookofmormon), bookofmormon[0], bookofmormon[3].book, bookofmormon[3].num_chps, bookofmormon[3][1])"
   ]
  },
  {
   "cell_type": "code",
   "execution_count": 31,
   "metadata": {
    "collapsed": false
   },
   "outputs": [
    {
     "name": "stdout",
     "output_type": "stream",
     "text": [
      "https://www.lds.org/scriptures/bofm/1-ne/1?lang=eng\n"
     ]
    }
   ],
   "source": [
    "print(make_url(bookofmormon[0].book,1))"
   ]
  },
  {
   "cell_type": "code",
   "execution_count": 33,
   "metadata": {
    "collapsed": false
   },
   "outputs": [],
   "source": [
    "def extract_verse_text(verse_html, verbose=False):\n",
    "    s = ''\n",
    "    for i,item in enumerate(verse_html):\n",
    "        if verbose is True: \n",
    "            print(i, item)\n",
    "        if item.name in ['span', 'sup']:\n",
    "            if verbose is True: \n",
    "                print('   *** IS span OR sup SO SKIP***')\n",
    "        elif item.name is 'a':\n",
    "            temp = item['class']\n",
    "            if verbose is True: \n",
    "                print('   --- ', temp, '---', temp[0], item.text, item.string)\n",
    "            if 'footnote' in temp:\n",
    "                if verbose is True: \n",
    "                    print('      --- THIS IS A FOOTNOTE ---')\n",
    "                s += item.text\n",
    "            pass\n",
    "        else:\n",
    "            s += item.string\n",
    "    return s\n",
    "\n",
    "def extract_verse_text_in_chapter_from_verses_html(verses_html):\n",
    "    '''\n",
    "    Purpose: given the html for the p tags in div class='verses' from a church chapter\n",
    "    web page, extract the text in all verses.\n",
    "    \n",
    "    Arguments:\n",
    "      verses_html - list containing all of the p tags\n",
    "    \n",
    "    Returns:\n",
    "      list of strings, with each string containing the text of the corresponding verse\n",
    "    '''\n",
    "    verses = []\n",
    "    for verse_html in verses_html:\n",
    "        verses.append(extract_verse_text(verse_html))\n",
    "    return verses\n",
    "\n",
    "def extract_verse_text_in_chapter_from_url(chapter_url):\n",
    "    '''\n",
    "    Purpose: given a url to a chapter of text in one of the lds standard works, extract\n",
    "    the text in all verses.\n",
    "    \n",
    "    Arguments:\n",
    "      chapter_url - string containing the url of the chapter from which to extract text\n",
    "    \n",
    "    Returns:\n",
    "      list of strings, with each string containing the text of the corresponding verse\n",
    "    '''\n",
    "    webpage = urllib2.urlopen(chapter_url)\n",
    "    soup = BeautifulSoup(webpage)\n",
    "    verses_div = soup.findAll('div',attrs={'class':'verses'})\n",
    "    verses_html = verses_div[0].findAll('p')\n",
    "    return extract_verse_text_in_chapter_from_verses_html(verses_html)"
   ]
  },
  {
   "cell_type": "markdown",
   "metadata": {},
   "source": [
    "# Test reading in just 1 Ne 1"
   ]
  },
  {
   "cell_type": "code",
   "execution_count": 34,
   "metadata": {
    "collapsed": false
   },
   "outputs": [
    {
     "data": {
      "text/plain": [
       "[u'I, Nephi, having been born of goodly parents, therefore I was taught somewhat in all the learning of my father; and having seen many afflictions in the course of my days, nevertheless, having been highly favored of the Lord in all my days; yea, having had a great knowledge of the goodness and the mysteries of God, therefore I make a record of my proceedings in my days.',\n",
       " u'Yea, I make a record in the language of my father, which consists of the learning of the Jews and the language of the Egyptians.',\n",
       " u'And I know that the record which I make is true; and I make it with mine own hand; and I make it according to my knowledge.',\n",
       " u'For it came to pass in the commencement of the first year of the reign of Zedekiah, king of Judah, (my father, Lehi, having dwelt at Jerusalem in all his days); and in that same year there came many prophets, prophesying unto the people that they must repent, or the great city Jerusalem must be destroyed.',\n",
       " u'Wherefore it came to pass that my father, Lehi, as he went forth prayed unto the Lord, yea, even with all his heart, in behalf of his people.',\n",
       " u'And it came to pass as he prayed unto the Lord, there came a pillar of fire and dwelt upon a rock before him; and he saw and heard much; and because of the things which he saw and heard he did quake and tremble exceedingly.',\n",
       " u'And it came to pass that he returned to his own house at Jerusalem; and he cast himself upon his bed, being overcome with the Spirit and the things which he had seen.',\n",
       " u'And being thus overcome with the Spirit, he was carried away in a vision, even that he saw the heavens open, and he thought he saw God sitting upon his throne, surrounded with numberless concourses of angels in the attitude of singing and praising their God.',\n",
       " u'And it came to pass that he saw One descending out of the midst of heaven, and he beheld that his luster was above that of the sun at noon-day.',\n",
       " u'And he also saw twelve others following him, and their brightness did exceed that of the stars in the firmament.',\n",
       " u'And they came down and went forth upon the face of the earth; and the first came and stood before my father, and gave unto him a book, and bade him that he should read.',\n",
       " u'And it came to pass that as he read, he was filled with the Spirit of the Lord.',\n",
       " u'And he read, saying: Wo, wo, unto Jerusalem, for I have seen thine abominations! Yea, and many things did my father read concerning Jerusalem\\u2014that it should be destroyed, and the inhabitants thereof; many should perish by the sword, and many should be carried away captive into Babylon.',\n",
       " u'And it came to pass that when my father had read and seen many great and marvelous things, he did exclaim many things unto the Lord; such as: Great and marvelous are thy works, O Lord God Almighty! Thy throne is high in the heavens, and thy power, and goodness, and mercy are over all the inhabitants of the earth; and, because thou art merciful, thou wilt not suffer those who come unto thee that they shall perish!',\n",
       " u'And after this manner was the language of my father in the praising of his God; for his soul did rejoice, and his whole heart was filled, because of the things which he had seen, yea, which the Lord had shown unto him.',\n",
       " u'And now I, Nephi, do not make a full account of the things which my father hath written, for he hath written many things which he saw in visions and in dreams; and he also hath written many things which he prophesied and spake unto his children, of which I shall not make a full account.',\n",
       " u'But I shall make an account of my proceedings in my days. Behold, I make an abridgment of the record of my father, upon plates which I have made with mine own hands; wherefore, after I have abridged the record of my father then will I make an account of mine own life.',\n",
       " u'Therefore, I would that ye should know, that after the Lord had shown so many marvelous things unto my father, Lehi, yea, concerning the destruction of Jerusalem, behold he went forth among the people, and began to prophesy and to declare unto them concerning the things which he had both seen and heard.',\n",
       " u'And it came to pass that the Jews did mock him because of the things which he testified of them; for he truly testified of their wickedness and their abominations; and he testified that the things which he saw and heard, and also the things which he read in the book, manifested plainly of the coming of a Messiah, and also the redemption of the world.',\n",
       " u'And when the Jews heard these things they were angry with him; yea, even as with the prophets of old, whom they had cast out, and stoned, and slain; and they also sought his life, that they might take it away. But behold, I, Nephi, will show unto you that the tender mercies of the Lord are over all those whom he hath chosen, because of their faith, to make them mighty even unto the power of deliverance.']"
      ]
     },
     "execution_count": 34,
     "metadata": {},
     "output_type": "execute_result"
    }
   ],
   "source": [
    "tempurl = make_url(bookofmormon[0].book,1)\n",
    "tempresult = extract_verse_text_in_chapter_from_url(tempurl)\n",
    "tempresult"
   ]
  },
  {
   "cell_type": "markdown",
   "metadata": {},
   "source": [
    "# Test reading in all of 1 Ne & constructing dictionary"
   ]
  },
  {
   "cell_type": "code",
   "execution_count": 35,
   "metadata": {
    "collapsed": false
   },
   "outputs": [
    {
     "data": {
      "text/plain": [
       "22"
      ]
     },
     "execution_count": 35,
     "metadata": {},
     "output_type": "execute_result"
    }
   ],
   "source": [
    "booktext = []\n",
    "for i in range(bookofmormon[0].num_chps):\n",
    "    chpnum = i+1\n",
    "    tempurl = make_url(bookofmormon[0].book,chpnum)\n",
    "    tempresult = extract_verse_text_in_chapter_from_url(tempurl)\n",
    "    booktext.append(tempresult)\n",
    "\n",
    "len(booktext)"
   ]
  },
  {
   "cell_type": "code",
   "execution_count": 36,
   "metadata": {
    "collapsed": false
   },
   "outputs": [
    {
     "data": {
      "text/plain": [
       "[u'I, Nephi, having been born of goodly parents, therefore I was taught somewhat in all the learning of my father; and having seen many afflictions in the course of my days, nevertheless, having been highly favored of the Lord in all my days; yea, having had a great knowledge of the goodness and the mysteries of God, therefore I make a record of my proceedings in my days.',\n",
       " u'Yea, I make a record in the language of my father, which consists of the learning of the Jews and the language of the Egyptians.',\n",
       " u'And I know that the record which I make is true; and I make it with mine own hand; and I make it according to my knowledge.',\n",
       " u'For it came to pass in the commencement of the first year of the reign of Zedekiah, king of Judah, (my father, Lehi, having dwelt at Jerusalem in all his days); and in that same year there came many prophets, prophesying unto the people that they must repent, or the great city Jerusalem must be destroyed.',\n",
       " u'Wherefore it came to pass that my father, Lehi, as he went forth prayed unto the Lord, yea, even with all his heart, in behalf of his people.',\n",
       " u'And it came to pass as he prayed unto the Lord, there came a pillar of fire and dwelt upon a rock before him; and he saw and heard much; and because of the things which he saw and heard he did quake and tremble exceedingly.',\n",
       " u'And it came to pass that he returned to his own house at Jerusalem; and he cast himself upon his bed, being overcome with the Spirit and the things which he had seen.',\n",
       " u'And being thus overcome with the Spirit, he was carried away in a vision, even that he saw the heavens open, and he thought he saw God sitting upon his throne, surrounded with numberless concourses of angels in the attitude of singing and praising their God.',\n",
       " u'And it came to pass that he saw One descending out of the midst of heaven, and he beheld that his luster was above that of the sun at noon-day.',\n",
       " u'And he also saw twelve others following him, and their brightness did exceed that of the stars in the firmament.',\n",
       " u'And they came down and went forth upon the face of the earth; and the first came and stood before my father, and gave unto him a book, and bade him that he should read.',\n",
       " u'And it came to pass that as he read, he was filled with the Spirit of the Lord.',\n",
       " u'And he read, saying: Wo, wo, unto Jerusalem, for I have seen thine abominations! Yea, and many things did my father read concerning Jerusalem\\u2014that it should be destroyed, and the inhabitants thereof; many should perish by the sword, and many should be carried away captive into Babylon.',\n",
       " u'And it came to pass that when my father had read and seen many great and marvelous things, he did exclaim many things unto the Lord; such as: Great and marvelous are thy works, O Lord God Almighty! Thy throne is high in the heavens, and thy power, and goodness, and mercy are over all the inhabitants of the earth; and, because thou art merciful, thou wilt not suffer those who come unto thee that they shall perish!',\n",
       " u'And after this manner was the language of my father in the praising of his God; for his soul did rejoice, and his whole heart was filled, because of the things which he had seen, yea, which the Lord had shown unto him.',\n",
       " u'And now I, Nephi, do not make a full account of the things which my father hath written, for he hath written many things which he saw in visions and in dreams; and he also hath written many things which he prophesied and spake unto his children, of which I shall not make a full account.',\n",
       " u'But I shall make an account of my proceedings in my days. Behold, I make an abridgment of the record of my father, upon plates which I have made with mine own hands; wherefore, after I have abridged the record of my father then will I make an account of mine own life.',\n",
       " u'Therefore, I would that ye should know, that after the Lord had shown so many marvelous things unto my father, Lehi, yea, concerning the destruction of Jerusalem, behold he went forth among the people, and began to prophesy and to declare unto them concerning the things which he had both seen and heard.',\n",
       " u'And it came to pass that the Jews did mock him because of the things which he testified of them; for he truly testified of their wickedness and their abominations; and he testified that the things which he saw and heard, and also the things which he read in the book, manifested plainly of the coming of a Messiah, and also the redemption of the world.',\n",
       " u'And when the Jews heard these things they were angry with him; yea, even as with the prophets of old, whom they had cast out, and stoned, and slain; and they also sought his life, that they might take it away. But behold, I, Nephi, will show unto you that the tender mercies of the Lord are over all those whom he hath chosen, because of their faith, to make them mighty even unto the power of deliverance.']"
      ]
     },
     "execution_count": 36,
     "metadata": {},
     "output_type": "execute_result"
    }
   ],
   "source": [
    "booktext[0]"
   ]
  },
  {
   "cell_type": "code",
   "execution_count": 37,
   "metadata": {
    "collapsed": true
   },
   "outputs": [],
   "source": [
    "bom_text = { bookofmormon[0].book:booktext }"
   ]
  },
  {
   "cell_type": "code",
   "execution_count": 39,
   "metadata": {
    "collapsed": false
   },
   "outputs": [
    {
     "data": {
      "text/plain": [
       "[u'I, Nephi, having been born of goodly parents, therefore I was taught somewhat in all the learning of my father; and having seen many afflictions in the course of my days, nevertheless, having been highly favored of the Lord in all my days; yea, having had a great knowledge of the goodness and the mysteries of God, therefore I make a record of my proceedings in my days.',\n",
       " u'Yea, I make a record in the language of my father, which consists of the learning of the Jews and the language of the Egyptians.',\n",
       " u'And I know that the record which I make is true; and I make it with mine own hand; and I make it according to my knowledge.',\n",
       " u'For it came to pass in the commencement of the first year of the reign of Zedekiah, king of Judah, (my father, Lehi, having dwelt at Jerusalem in all his days); and in that same year there came many prophets, prophesying unto the people that they must repent, or the great city Jerusalem must be destroyed.',\n",
       " u'Wherefore it came to pass that my father, Lehi, as he went forth prayed unto the Lord, yea, even with all his heart, in behalf of his people.',\n",
       " u'And it came to pass as he prayed unto the Lord, there came a pillar of fire and dwelt upon a rock before him; and he saw and heard much; and because of the things which he saw and heard he did quake and tremble exceedingly.',\n",
       " u'And it came to pass that he returned to his own house at Jerusalem; and he cast himself upon his bed, being overcome with the Spirit and the things which he had seen.',\n",
       " u'And being thus overcome with the Spirit, he was carried away in a vision, even that he saw the heavens open, and he thought he saw God sitting upon his throne, surrounded with numberless concourses of angels in the attitude of singing and praising their God.',\n",
       " u'And it came to pass that he saw One descending out of the midst of heaven, and he beheld that his luster was above that of the sun at noon-day.',\n",
       " u'And he also saw twelve others following him, and their brightness did exceed that of the stars in the firmament.',\n",
       " u'And they came down and went forth upon the face of the earth; and the first came and stood before my father, and gave unto him a book, and bade him that he should read.',\n",
       " u'And it came to pass that as he read, he was filled with the Spirit of the Lord.',\n",
       " u'And he read, saying: Wo, wo, unto Jerusalem, for I have seen thine abominations! Yea, and many things did my father read concerning Jerusalem\\u2014that it should be destroyed, and the inhabitants thereof; many should perish by the sword, and many should be carried away captive into Babylon.',\n",
       " u'And it came to pass that when my father had read and seen many great and marvelous things, he did exclaim many things unto the Lord; such as: Great and marvelous are thy works, O Lord God Almighty! Thy throne is high in the heavens, and thy power, and goodness, and mercy are over all the inhabitants of the earth; and, because thou art merciful, thou wilt not suffer those who come unto thee that they shall perish!',\n",
       " u'And after this manner was the language of my father in the praising of his God; for his soul did rejoice, and his whole heart was filled, because of the things which he had seen, yea, which the Lord had shown unto him.',\n",
       " u'And now I, Nephi, do not make a full account of the things which my father hath written, for he hath written many things which he saw in visions and in dreams; and he also hath written many things which he prophesied and spake unto his children, of which I shall not make a full account.',\n",
       " u'But I shall make an account of my proceedings in my days. Behold, I make an abridgment of the record of my father, upon plates which I have made with mine own hands; wherefore, after I have abridged the record of my father then will I make an account of mine own life.',\n",
       " u'Therefore, I would that ye should know, that after the Lord had shown so many marvelous things unto my father, Lehi, yea, concerning the destruction of Jerusalem, behold he went forth among the people, and began to prophesy and to declare unto them concerning the things which he had both seen and heard.',\n",
       " u'And it came to pass that the Jews did mock him because of the things which he testified of them; for he truly testified of their wickedness and their abominations; and he testified that the things which he saw and heard, and also the things which he read in the book, manifested plainly of the coming of a Messiah, and also the redemption of the world.',\n",
       " u'And when the Jews heard these things they were angry with him; yea, even as with the prophets of old, whom they had cast out, and stoned, and slain; and they also sought his life, that they might take it away. But behold, I, Nephi, will show unto you that the tender mercies of the Lord are over all those whom he hath chosen, because of their faith, to make them mighty even unto the power of deliverance.']"
      ]
     },
     "execution_count": 39,
     "metadata": {},
     "output_type": "execute_result"
    }
   ],
   "source": [
    "bom_text['1-ne'][0]"
   ]
  },
  {
   "cell_type": "code",
   "execution_count": 40,
   "metadata": {
    "collapsed": false
   },
   "outputs": [
    {
     "data": {
      "text/plain": [
       "[u'For behold, it came to pass that the Lord spake unto my father, yea, even in a dream, and said unto him: Blessed art thou Lehi, because of the things which thou hast done; and because thou hast been faithful and declared unto this people the things which I commanded thee, behold, they seek to take away thy life.',\n",
       " u'And it came to pass that the Lord commanded my father, even in a dream, that he should take his family and depart into the wilderness.',\n",
       " u'And it came to pass that he was obedient unto the word of the Lord, wherefore he did as the Lord commanded him.',\n",
       " u'And it came to pass that he departed into the wilderness. And he left his house, and the land of his inheritance, and his gold, and his silver, and his precious things, and took nothing with him, save it were his family, and provisions, and tents, and departed into the wilderness.',\n",
       " u'And he came down by the borders near the shore of the Red Sea; and he traveled in the wilderness in the borders which are nearer the Red Sea; and he did travel in the wilderness with his family, which consisted of my mother, Sariah, and my elder brothers, who were Laman, Lemuel, and Sam.',\n",
       " u'And it came to pass that when he had traveled three days in the wilderness, he pitched his tent in a valley by the side of a river of water.',\n",
       " u'And it came to pass that he built an altar of stones, and made an offering unto the Lord, and gave thanks unto the Lord our God.',\n",
       " u'And it came to pass that he called the name of the river, Laman, and it emptied into the Red Sea; and the valley was in the borders near the mouth thereof.',\n",
       " u'And when my father saw that the waters of the river emptied into the fountain of the Red Sea, he spake unto Laman, saying: O that thou mightest be like unto this river, continually running into the fountain of all righteousness!',\n",
       " u'And he also spake unto Lemuel: O that thou mightest be like unto this valley, firm and steadfast, and immovable in keeping the commandments of the Lord!',\n",
       " u'Now this he spake because of the stiffneckedness of Laman and Lemuel; for behold they did murmur in many things against their father, because he was a visionary man, and had led them out of the land of Jerusalem, to leave the land of their inheritance, and their gold, and their silver, and their precious things, to perish in the wilderness. And this they said he had done because of the foolish imaginations of his heart.',\n",
       " u'And thus Laman and Lemuel, being the eldest, did murmur against their father. And they did murmur because they knew not the dealings of that God who had created them.',\n",
       " u'Neither did they believe that Jerusalem, that great city, could be destroyed according to the words of the prophets. And they were like unto the Jews who were at Jerusalem, who sought to take away the life of my father.',\n",
       " u'And it came to pass that my father did speak unto them in the valley of Lemuel, with power, being filled with the Spirit, until their frames did shake before him. And he did confound them, that they durst not utter against him; wherefore, they did as he commanded them.',\n",
       " u'And my father dwelt in a tent.',\n",
       " u'And it came to pass that I, Nephi, being exceedingly young, nevertheless being large in stature, and also having great desires to know of the mysteries of God, wherefore, I did cry unto the Lord; and behold he did visit me, and did soften my heart that I did believe all the words which had been spoken by my father; wherefore, I did not rebel against him like unto my brothers.',\n",
       " u'And I spake unto Sam, making known unto him the things which the Lord had manifested unto me by his Holy Spirit. And it came to pass that he believed in my words.',\n",
       " u'But, behold, Laman and Lemuel would not hearken unto my words; and being grieved because of the hardness of their hearts I cried unto the Lord for them.',\n",
       " u'And it came to pass that the Lord spake unto me, saying: Blessed art thou, Nephi, because of thy faith, for thou hast sought me diligently, with lowliness of heart.',\n",
       " u'And inasmuch as ye shall keep my commandments, ye shall prosper, and shall be led to a land of promise; yea, even a land which I have prepared for you; yea, a land which is choice above all other lands.',\n",
       " u'And inasmuch as thy brethren shall rebel against thee, they shall be cut off from the presence of the Lord.',\n",
       " u'And inasmuch as thou shalt keep my commandments, thou shalt be made a ruler and a teacher over thy brethren.',\n",
       " u'For behold, in that day that they shall rebel against me, I will curse them even with a sore curse, and they shall have no power over thy seed except they shall rebel against me also.',\n",
       " u'And if it so be that they rebel against me, they shall be a scourge unto thy seed, to stir them up in the ways of remembrance.']"
      ]
     },
     "execution_count": 40,
     "metadata": {},
     "output_type": "execute_result"
    }
   ],
   "source": [
    "bom_text['1-ne'][1]"
   ]
  },
  {
   "cell_type": "code",
   "execution_count": 41,
   "metadata": {
    "collapsed": false
   },
   "outputs": [
    {
     "data": {
      "text/plain": [
       "u'And it came to pass that the Lord commanded my father, even in a dream, that he should take his family and depart into the wilderness.'"
      ]
     },
     "execution_count": 41,
     "metadata": {},
     "output_type": "execute_result"
    }
   ],
   "source": [
    "bom_text['1-ne'][1][1]"
   ]
  },
  {
   "cell_type": "code",
   "execution_count": 48,
   "metadata": {
    "collapsed": false
   },
   "outputs": [
    {
     "data": {
      "text/plain": [
       "u'Wherefore, ye need not suppose that I and my father are the only ones that have testified, and also taught them. Wherefore, if ye shall be obedient to the commandments, and endure to the end, ye shall be saved at the last day. And thus it is. Amen.'"
      ]
     },
     "execution_count": 48,
     "metadata": {},
     "output_type": "execute_result"
    }
   ],
   "source": [
    "bom_text['1-ne'][21][30]"
   ]
  },
  {
   "cell_type": "markdown",
   "metadata": {},
   "source": [
    "# Test pickling dictionary "
   ]
  },
  {
   "cell_type": "code",
   "execution_count": 44,
   "metadata": {
    "collapsed": true
   },
   "outputs": [],
   "source": [
    "pickle.dump( bom_text, open( \"test_save.pickle\", \"wb\" ) )"
   ]
  },
  {
   "cell_type": "code",
   "execution_count": 45,
   "metadata": {
    "collapsed": true
   },
   "outputs": [],
   "source": [
    "test_read_pickle = pickle.load( open( \"test_save.pickle\", \"rb\" ) )"
   ]
  },
  {
   "cell_type": "code",
   "execution_count": 46,
   "metadata": {
    "collapsed": false
   },
   "outputs": [
    {
     "data": {
      "text/plain": [
       "u'And it came to pass that the Lord commanded my father, even in a dream, that he should take his family and depart into the wilderness.'"
      ]
     },
     "execution_count": 46,
     "metadata": {},
     "output_type": "execute_result"
    }
   ],
   "source": [
    "test_read_pickle['1-ne'][1][1]"
   ]
  },
  {
   "cell_type": "code",
   "execution_count": 49,
   "metadata": {
    "collapsed": false
   },
   "outputs": [
    {
     "data": {
      "text/plain": [
       "u'Wherefore, ye need not suppose that I and my father are the only ones that have testified, and also taught them. Wherefore, if ye shall be obedient to the commandments, and endure to the end, ye shall be saved at the last day. And thus it is. Amen.'"
      ]
     },
     "execution_count": 49,
     "metadata": {},
     "output_type": "execute_result"
    }
   ],
   "source": [
    "test_read_pickle['1-ne'][21][30]"
   ]
  },
  {
   "cell_type": "markdown",
   "metadata": {},
   "source": [
    "**Works great!**"
   ]
  },
  {
   "cell_type": "markdown",
   "metadata": {},
   "source": [
    "# Read 1 Ne and 2 Ne & save"
   ]
  },
  {
   "cell_type": "code",
   "execution_count": 52,
   "metadata": {
    "collapsed": false
   },
   "outputs": [],
   "source": [
    "def get_book_text(bookinfo):\n",
    "    booktext = []\n",
    "    for i in range(bookinfo.num_chps):\n",
    "        chpnum = i+1\n",
    "        tempresult = extract_verse_text_in_chapter_from_url( make_url(bookinfo.book, chpnum) )\n",
    "        booktext.append(tempresult)\n",
    "    return booktext"
   ]
  },
  {
   "cell_type": "code",
   "execution_count": 56,
   "metadata": {
    "collapsed": false
   },
   "outputs": [
    {
     "name": "stdout",
     "output_type": "stream",
     "text": [
      "0 1-ne  starting...\n",
      "1 2-ne  starting...\n"
     ]
    }
   ],
   "source": [
    "bom_text = {}\n",
    "for i in range(2):\n",
    "    print(i, bookofmormon[i].book, ' starting...')\n",
    "    bom_text[bookofmormon[i].book] = get_book_text(bookofmormon[i])"
   ]
  },
  {
   "cell_type": "code",
   "execution_count": 57,
   "metadata": {
    "collapsed": false
   },
   "outputs": [
    {
     "name": "stdout",
     "output_type": "stream",
     "text": [
      "2\n",
      "['2-ne', '1-ne']\n"
     ]
    }
   ],
   "source": [
    "print(len(bom_text))\n",
    "print(bom_text.keys())"
   ]
  },
  {
   "cell_type": "code",
   "execution_count": 58,
   "metadata": {
    "collapsed": false
   },
   "outputs": [
    {
     "data": {
      "text/plain": [
       "u'Wherefore, my beloved brethren, I know that if ye shall follow the Son, with full purpose of heart, acting no hypocrisy and no deception before God, but with real intent, repenting of your sins, witnessing unto the Father that ye are willing to take upon you the name of Christ, by baptism\\u2014yea, by following your Lord and your Savior down into the water, according to his word, behold, then shall ye receive the Holy Ghost; yea, then cometh the baptism of fire and of the Holy Ghost; and then can ye speak with the tongue of angels, and shout praises unto the Holy One of Israel.'"
      ]
     },
     "execution_count": 58,
     "metadata": {},
     "output_type": "execute_result"
    }
   ],
   "source": [
    "bom_text['2-ne'][30][12]"
   ]
  },
  {
   "cell_type": "code",
   "execution_count": 59,
   "metadata": {
    "collapsed": true
   },
   "outputs": [],
   "source": [
    "pickle.dump( bom_text, open( \"test_save_1ne2ne.pickle\", \"wb\" ) )"
   ]
  },
  {
   "cell_type": "code",
   "execution_count": 60,
   "metadata": {
    "collapsed": false
   },
   "outputs": [
    {
     "data": {
      "text/plain": [
       "u'Wherefore, my beloved brethren, I know that if ye shall follow the Son, with full purpose of heart, acting no hypocrisy and no deception before God, but with real intent, repenting of your sins, witnessing unto the Father that ye are willing to take upon you the name of Christ, by baptism\\u2014yea, by following your Lord and your Savior down into the water, according to his word, behold, then shall ye receive the Holy Ghost; yea, then cometh the baptism of fire and of the Holy Ghost; and then can ye speak with the tongue of angels, and shout praises unto the Holy One of Israel.'"
      ]
     },
     "execution_count": 60,
     "metadata": {},
     "output_type": "execute_result"
    }
   ],
   "source": [
    "test_read_pickle = pickle.load( open( \"test_save_1ne2ne.pickle\", \"rb\" ) )\n",
    "test_read_pickle['2-ne'][30][12]"
   ]
  },
  {
   "cell_type": "markdown",
   "metadata": {},
   "source": [
    "**Works great!**"
   ]
  },
  {
   "cell_type": "markdown",
   "metadata": {},
   "source": [
    "# Now let's get the whole Book of Mormon and save it!"
   ]
  },
  {
   "cell_type": "code",
   "execution_count": 61,
   "metadata": {
    "collapsed": false
   },
   "outputs": [
    {
     "data": {
      "text/plain": [
       "15"
      ]
     },
     "execution_count": 61,
     "metadata": {},
     "output_type": "execute_result"
    }
   ],
   "source": [
    "len(bookofmormon)"
   ]
  },
  {
   "cell_type": "code",
   "execution_count": 64,
   "metadata": {
    "collapsed": false
   },
   "outputs": [
    {
     "name": "stdout",
     "output_type": "stream",
     "text": [
      "0 Book(book='1-ne', num_chps=22)\n",
      "1 Book(book='2-ne', num_chps=33)\n",
      "2 Book(book='jacob', num_chps=7)\n",
      "3 Book(book='enos', num_chps=1)\n",
      "4 Book(book='jarom', num_chps=1)\n",
      "5 Book(book='omni', num_chps=1)\n",
      "6 Book(book='w-o-m', num_chps=1)\n",
      "7 Book(book='mosiah', num_chps=29)\n",
      "8 Book(book='alma', num_chps=63)\n",
      "9 Book(book='hel', num_chps=16)\n",
      "10 Book(book='3-ne', num_chps=30)\n",
      "11 Book(book='4-ne', num_chps=1)\n",
      "12 Book(book='morm', num_chps=9)\n",
      "13 Book(book='ether', num_chps=15)\n",
      "14 Book(book='moro', num_chps=10)\n"
     ]
    }
   ],
   "source": [
    "for i,b in enumerate(bookofmormon):\n",
    "    print(i, b)"
   ]
  },
  {
   "cell_type": "code",
   "execution_count": 77,
   "metadata": {
    "collapsed": false
   },
   "outputs": [
    {
     "name": "stdout",
     "output_type": "stream",
     "text": [
      "1-ne  starting...\n",
      "2-ne  starting...\n",
      "jacob  starting...\n",
      "enos  starting...\n",
      "jarom  starting...\n",
      "omni  starting...\n",
      "w-of-m  starting...\n",
      "mosiah  starting...\n",
      "alma  starting...\n",
      "hel  starting...\n",
      "3-ne  starting...\n",
      "4-ne  starting...\n",
      "morm  starting...\n",
      "ether  starting...\n",
      "moro  starting...\n"
     ]
    }
   ],
   "source": [
    "bom_text = {}\n",
    "for b in bookofmormon:\n",
    "    print(b.book, ' starting...')\n",
    "    bom_text[b.book] = get_book_text(b)"
   ]
  },
  {
   "cell_type": "code",
   "execution_count": 79,
   "metadata": {
    "collapsed": false
   },
   "outputs": [],
   "source": [
    "pickle.dump( bom_text, open( \"bom_150524.pickle\", \"wb\" ) )"
   ]
  },
  {
   "cell_type": "code",
   "execution_count": 82,
   "metadata": {
    "collapsed": false
   },
   "outputs": [
    {
     "data": {
      "text/plain": [
       "u'And by the power of the Holy Ghost ye may know the truth of all things.'"
      ]
     },
     "execution_count": 82,
     "metadata": {},
     "output_type": "execute_result"
    }
   ],
   "source": [
    "test_read_pickle = pickle.load( open( \"bom_150524.pickle\", \"rb\" ) )\n",
    "test_read_pickle['moro'][9][4]"
   ]
  },
  {
   "cell_type": "code",
   "execution_count": 81,
   "metadata": {
    "collapsed": false
   },
   "outputs": [
    {
     "data": {
      "text/plain": [
       "u'And by the power of the Holy Ghost ye may know the truth of all things.'"
      ]
     },
     "execution_count": 81,
     "metadata": {},
     "output_type": "execute_result"
    }
   ],
   "source": [
    "bom_text['moro'][9][4]"
   ]
  },
  {
   "cell_type": "code",
   "execution_count": null,
   "metadata": {
    "collapsed": true
   },
   "outputs": [],
   "source": []
  }
 ],
 "metadata": {
  "kernelspec": {
   "display_name": "Python 2",
   "language": "python",
   "name": "python2"
  },
  "language_info": {
   "codemirror_mode": {
    "name": "ipython",
    "version": 2
   },
   "file_extension": ".py",
   "mimetype": "text/x-python",
   "name": "python",
   "nbconvert_exporter": "python",
   "pygments_lexer": "ipython2",
   "version": "2.7.9"
  }
 },
 "nbformat": 4,
 "nbformat_minor": 0
}
